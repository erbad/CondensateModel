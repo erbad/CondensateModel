{
 "cells": [
  {
   "cell_type": "code",
   "execution_count": null,
   "metadata": {
    "vscode": {
     "languageId": "plaintext"
    }
   },
   "outputs": [],
   "source": [
    "import numpy as np\n",
    "import matplotlib.pyplot as plt"
   ]
  },
  {
   "cell_type": "code",
   "execution_count": null,
   "metadata": {
    "vscode": {
     "languageId": "plaintext"
    }
   },
   "outputs": [],
   "source": [
    "NA = [40, 80, 160, 320, 480, 640]"
   ]
  },
  {
   "cell_type": "code",
   "execution_count": null,
   "metadata": {
    "vscode": {
     "languageId": "plaintext"
    }
   },
   "outputs": [],
   "source": [
    "data = {}\n",
    "for N in NA:\n",
    "      data[N] = {'avg':[], 'std':[], 'weight':[]}\n",
    "      file = f'{N}A100-4000B/Chain-Avg_ErrOccupation.dat'\n",
    "      with open(file, 'r') as fi:\n",
    "            for row in fi:\n",
    "                  if row[0] != '#':\n",
    "                        cols = row.split()\n",
    "                        data[N]['avg'].append(float(cols[1]))\n",
    "                        data[N]['std'].append(float(cols[2]))\n",
    "                        data[N]['weight'].append(float(cols[2])**-2)\n",
    "      data[N]['histo'], data[N]['bins'] = np.histogram(data[N]['avg'], range=(0,1), bins=10, density=True)\n",
    "      data[N]['bins'] = 0.5*(data[N]['bins'][1:] + data[N]['bins'][:-1])\n",
    "      data[N]['AvgOcc'] = np.average(data[N]['avg'], weights=data[N]['weight'])\n",
    "      data[N]['ErrOcc'] = np.sqrt(1/np.sum(data[N]['weight']))"
   ]
  },
  {
   "cell_type": "code",
   "execution_count": null,
   "metadata": {
    "vscode": {
     "languageId": "plaintext"
    }
   },
   "outputs": [],
   "source": [
    "colors = {40:'tab:red',\n",
    "          80:'tab:blue',\n",
    "          160:'tab:green',\n",
    "          320:'tab:orange',\n",
    "          480:'tab:purple',\n",
    "          640:'tab:brown'}"
   ]
  },
  {
   "cell_type": "code",
   "execution_count": null,
   "metadata": {
    "vscode": {
     "languageId": "plaintext"
    }
   },
   "outputs": [],
   "source": [
    "fig, ax = plt.subplots(1,1,figsize=(6,4))\n",
    "ax.set_xlim(0,1.05)\n",
    "ax.set_ylim(0,1.)\n",
    "count = 0\n",
    "for N in NA:\n",
    "      renorm = sum([h for h in data[N]['histo']])\n",
    "      ax.plot(data[N]['bins'], data[N]['histo'] / renorm, label=f'{N}A', linewidth=3, color=colors[N], alpha=0.75)\n",
    "      ax.plot([np.mean(data[N]['avg']) for n in range(10)], np.linspace(0,1,10), '--', color=colors[N])\n",
    "      ax.fill_betweenx([0,1], \n",
    "                       np.mean(data[N]['avg'])-np.std(data[N]['avg']), \n",
    "                       np.mean(data[N]['avg'])+np.std(data[N]['avg']), \n",
    "                       color=colors[N], alpha=0.25)\n",
    "      ax.plot([4000 / (N * 100) for n in range(10)], \n",
    "              np.linspace(0,1,10), \n",
    "              '--', linewidth =2, color='black')\n",
    "      ax.errorbar(np.mean(data[N]['avg']), 0.15 + 0.15 * count, xerr=np.std(data[N]['avg']), color=colors[N], fmt='o', markersize=4.5)\n",
    "      #ax.plot([data[N]['AvgOcc'] for n in range(10)], np.linspace(0,1,10), '--', color=colors[N])\n",
    "      #ax.fill_betweenx([0,1], data[N]['AvgOcc']-data[N]['ErrOcc'], data[N]['AvgOcc']+data[N]['ErrOcc'], color=colors[N], alpha=0.25)\n",
    "      count+=1\n",
    "ax.legend(loc='center left', bbox_to_anchor=(1, 0.5), fontsize=15, frameon=False)"
   ]
  },
  {
   "cell_type": "code",
   "execution_count": null,
   "metadata": {
    "vscode": {
     "languageId": "plaintext"
    }
   },
   "outputs": [],
   "source": [
    "fig, axs = plt.subplots(1,6,figsize=(25,5), sharex=True, sharey=True)\n",
    "\n",
    "axs[0].set_ylabel('Probability', fontsize=20)\n",
    "\n",
    "for N, ax in zip(NA, axs.flatten()):\n",
    "        ax.tick_params(axis='both', which='major', labelsize=15.5)\n",
    "        #ax.set_title(f'{int(N*100/4000)}:1', fontsize=16)\n",
    "        ax.set_xlim(0,1.05)\n",
    "        ax.set_ylim(0,1)\n",
    "        ax.set_xlabel('Occupation', fontsize=20)\n",
    "        renorm = sum([h for h in data[N]['histo']])\n",
    "        ax.plot(data[N]['bins'], \n",
    "                data[N]['histo'] / renorm, \n",
    "                label=f'{N}A', linewidth=3, color=colors[N], alpha=0.75)\n",
    "        ax.plot([np.mean(data[N]['avg']) for n in range(10)], \n",
    "                np.linspace(0,1,10), \n",
    "                '--', linewidth=2, color=colors[N])\n",
    "        ax.plot([4000 / (N * 100) for n in range(10)], \n",
    "                np.linspace(0,1,10), \n",
    "                '--', linewidth =2, color='black')\n",
    "        ax.fill_betweenx([0,1], \n",
    "                        np.mean(data[N]['avg'])-np.std(data[N]['avg']), \n",
    "                        np.mean(data[N]['avg'])+np.std(data[N]['avg']), \n",
    "                        color=colors[N], alpha=0.25)\n",
    "        ax.errorbar(np.mean(data[N]['avg']), \n",
    "                        0.15 + 0.15, \n",
    "                        xerr=np.std(data[N]['avg']), \n",
    "                        color=colors[N], fmt='o', markersize=4.5)\n",
    "        #ax.plot([data[N]['AvgOcc'] for n in range(10)], np.linspace(0,1,10), '--', color=colors[N])\n",
    "        #ax.fill_betweenx([0,1], data[N]['AvgOcc']-data[N]['ErrOcc'], data[N]['AvgOcc']+data[N]['ErrOcc'], color=colors[N], alpha=0.25)\n",
    "        #ax.legend(loc='center left', bbox_to_anchor=(1, 0.5), fontsize=15, frameon=False)\n",
    "        fig.tight_layout()\n",
    "        fig.savefig('OccupationChains.png', bbox_inches='tight', dpi=300)"
   ]
  }
 ],
 "metadata": {
  "language_info": {
   "name": "python"
  }
 },
 "nbformat": 4,
 "nbformat_minor": 2
}
